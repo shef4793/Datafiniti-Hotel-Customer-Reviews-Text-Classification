{
  "nbformat": 4,
  "nbformat_minor": 0,
  "metadata": {
    "colab": {
      "name": "Text_Classification_1.ipynb",
      "version": "0.3.2",
      "provenance": [],
      "collapsed_sections": []
    },
    "language_info": {
      "codemirror_mode": {
        "name": "ipython",
        "version": 3
      },
      "file_extension": ".py",
      "mimetype": "text/x-python",
      "name": "python",
      "nbconvert_exporter": "python",
      "pygments_lexer": "ipython3",
      "version": "3.7.1"
    },
    "kernelspec": {
      "name": "python3",
      "display_name": "Python 3"
    },
    "accelerator": "GPU"
  },
  "cells": [
    {
      "cell_type": "code",
      "metadata": {
        "id": "WWeOKM1l8WY8",
        "colab_type": "code",
        "outputId": "12c7cb01-4c47-41c8-98a4-3fe9c9de96c9",
        "colab": {
          "base_uri": "https://localhost:8080/",
          "height": 84
        }
      },
      "source": [
        "import re\n",
        "import numpy as np\n",
        "import pandas as pd\n",
        "import nltk  \n",
        "nltk.download('stopwords')  \n",
        "import pickle  \n",
        "from nltk.corpus import stopwords\n",
        "from nltk.stem import WordNetLemmatizer\n",
        "nltk.download('wordnet')\n",
        "from sklearn.model_selection import train_test_split\n",
        "from sklearn.metrics import classification_report\n",
        "import matplotlib.pyplot as plt\n",
        "import seaborn as sns\n",
        "\n",
        "%matplotlib inline"
      ],
      "execution_count": 16,
      "outputs": [
        {
          "output_type": "stream",
          "text": [
            "[nltk_data] Downloading package stopwords to /root/nltk_data...\n",
            "[nltk_data]   Package stopwords is already up-to-date!\n",
            "[nltk_data] Downloading package wordnet to /root/nltk_data...\n",
            "[nltk_data]   Package wordnet is already up-to-date!\n"
          ],
          "name": "stdout"
        }
      ]
    },
    {
      "cell_type": "code",
      "metadata": {
        "id": "pZ1vP3tJ8WZN",
        "colab_type": "code",
        "colab": {}
      },
      "source": [
        "from google.colab import drive"
      ],
      "execution_count": 0,
      "outputs": []
    },
    {
      "cell_type": "code",
      "metadata": {
        "id": "d84PIGNiAAR9",
        "colab_type": "code",
        "outputId": "6fc4f9c3-d501-4980-8af9-3ac199f40689",
        "colab": {
          "base_uri": "https://localhost:8080/",
          "height": 34
        }
      },
      "source": [
        "drive.mount('/content/drive')"
      ],
      "execution_count": 3,
      "outputs": [
        {
          "output_type": "stream",
          "text": [
            "Drive already mounted at /content/drive; to attempt to forcibly remount, call drive.mount(\"/content/drive\", force_remount=True).\n"
          ],
          "name": "stdout"
        }
      ]
    },
    {
      "cell_type": "code",
      "metadata": {
        "id": "mZKxPHP-AVZx",
        "colab_type": "code",
        "outputId": "e631f95e-1acb-4153-f67d-b9ce9d8f6bd9",
        "colab": {
          "base_uri": "https://localhost:8080/",
          "height": 269
        }
      },
      "source": [
        "  !ls '/content/drive/My Drive/Colab Notebooks/'"
      ],
      "execution_count": 0,
      "outputs": [
        {
          "output_type": "stream",
          "text": [
            " 4.4-overfitting-and-underfitting.ipynb.txt\n",
            " 5.3-using-a-pretrained-convnet.ipynb\n",
            " 7282_1.csv\n",
            " basic_classification.ipynb\n",
            " corpus.txt\n",
            " Marathi2Vec.ipynb\n",
            " NN-example.ipynb\n",
            " sample_submission.csv\n",
            " test.csv\n",
            " Text_Classification_1.ipynb\n",
            " text_classification_example.ipynb\n",
            " Text_Classification.ipynb\n",
            " train.csv\n",
            "'Transaction Prediction using Deep Learning_1.ipynb'\n",
            " Untitled0.ipynb\n"
          ],
          "name": "stdout"
        }
      ]
    },
    {
      "cell_type": "code",
      "metadata": {
        "id": "1Raw4EqhA3lN",
        "colab_type": "code",
        "colab": {}
      },
      "source": [
        "data = pd.read_csv(\"/content/drive/My Drive/Colab Notebooks/7282_1.csv\")"
      ],
      "execution_count": 0,
      "outputs": []
    },
    {
      "cell_type": "code",
      "metadata": {
        "id": "Si6NbDf_A44d",
        "colab_type": "code",
        "outputId": "4e405421-0900-4afd-caf7-3246375364f7",
        "colab": {
          "base_uri": "https://localhost:8080/",
          "height": 501
        }
      },
      "source": [
        "data.head()"
      ],
      "execution_count": 0,
      "outputs": [
        {
          "output_type": "execute_result",
          "data": {
            "text/html": [
              "<div>\n",
              "<style scoped>\n",
              "    .dataframe tbody tr th:only-of-type {\n",
              "        vertical-align: middle;\n",
              "    }\n",
              "\n",
              "    .dataframe tbody tr th {\n",
              "        vertical-align: top;\n",
              "    }\n",
              "\n",
              "    .dataframe thead th {\n",
              "        text-align: right;\n",
              "    }\n",
              "</style>\n",
              "<table border=\"1\" class=\"dataframe\">\n",
              "  <thead>\n",
              "    <tr style=\"text-align: right;\">\n",
              "      <th></th>\n",
              "      <th>address</th>\n",
              "      <th>categories</th>\n",
              "      <th>city</th>\n",
              "      <th>country</th>\n",
              "      <th>latitude</th>\n",
              "      <th>longitude</th>\n",
              "      <th>name</th>\n",
              "      <th>postalCode</th>\n",
              "      <th>province</th>\n",
              "      <th>reviews.date</th>\n",
              "      <th>reviews.dateAdded</th>\n",
              "      <th>reviews.doRecommend</th>\n",
              "      <th>reviews.id</th>\n",
              "      <th>reviews.rating</th>\n",
              "      <th>reviews.text</th>\n",
              "      <th>reviews.title</th>\n",
              "      <th>reviews.userCity</th>\n",
              "      <th>reviews.username</th>\n",
              "      <th>reviews.userProvince</th>\n",
              "    </tr>\n",
              "  </thead>\n",
              "  <tbody>\n",
              "    <tr>\n",
              "      <th>0</th>\n",
              "      <td>Riviera San Nicol 11/a</td>\n",
              "      <td>Hotels</td>\n",
              "      <td>Mableton</td>\n",
              "      <td>US</td>\n",
              "      <td>45.421611</td>\n",
              "      <td>12.376187</td>\n",
              "      <td>Hotel Russo Palace</td>\n",
              "      <td>30126</td>\n",
              "      <td>GA</td>\n",
              "      <td>2013-09-22T00:00:00Z</td>\n",
              "      <td>2016-10-24T00:00:25Z</td>\n",
              "      <td>NaN</td>\n",
              "      <td>NaN</td>\n",
              "      <td>4.0</td>\n",
              "      <td>Pleasant 10 min walk along the sea front to th...</td>\n",
              "      <td>Good location away from the crouds</td>\n",
              "      <td>NaN</td>\n",
              "      <td>Russ (kent)</td>\n",
              "      <td>NaN</td>\n",
              "    </tr>\n",
              "    <tr>\n",
              "      <th>1</th>\n",
              "      <td>Riviera San Nicol 11/a</td>\n",
              "      <td>Hotels</td>\n",
              "      <td>Mableton</td>\n",
              "      <td>US</td>\n",
              "      <td>45.421611</td>\n",
              "      <td>12.376187</td>\n",
              "      <td>Hotel Russo Palace</td>\n",
              "      <td>30126</td>\n",
              "      <td>GA</td>\n",
              "      <td>2015-04-03T00:00:00Z</td>\n",
              "      <td>2016-10-24T00:00:25Z</td>\n",
              "      <td>NaN</td>\n",
              "      <td>NaN</td>\n",
              "      <td>5.0</td>\n",
              "      <td>Really lovely hotel. Stayed on the very top fl...</td>\n",
              "      <td>Great hotel with Jacuzzi bath!</td>\n",
              "      <td>NaN</td>\n",
              "      <td>A Traveler</td>\n",
              "      <td>NaN</td>\n",
              "    </tr>\n",
              "    <tr>\n",
              "      <th>2</th>\n",
              "      <td>Riviera San Nicol 11/a</td>\n",
              "      <td>Hotels</td>\n",
              "      <td>Mableton</td>\n",
              "      <td>US</td>\n",
              "      <td>45.421611</td>\n",
              "      <td>12.376187</td>\n",
              "      <td>Hotel Russo Palace</td>\n",
              "      <td>30126</td>\n",
              "      <td>GA</td>\n",
              "      <td>2014-05-13T00:00:00Z</td>\n",
              "      <td>2016-10-24T00:00:25Z</td>\n",
              "      <td>NaN</td>\n",
              "      <td>NaN</td>\n",
              "      <td>5.0</td>\n",
              "      <td>Ett mycket bra hotell. Det som drog ner betyge...</td>\n",
              "      <td>Lugnt l��ge</td>\n",
              "      <td>NaN</td>\n",
              "      <td>Maud</td>\n",
              "      <td>NaN</td>\n",
              "    </tr>\n",
              "    <tr>\n",
              "      <th>3</th>\n",
              "      <td>Riviera San Nicol 11/a</td>\n",
              "      <td>Hotels</td>\n",
              "      <td>Mableton</td>\n",
              "      <td>US</td>\n",
              "      <td>45.421611</td>\n",
              "      <td>12.376187</td>\n",
              "      <td>Hotel Russo Palace</td>\n",
              "      <td>30126</td>\n",
              "      <td>GA</td>\n",
              "      <td>2013-10-27T00:00:00Z</td>\n",
              "      <td>2016-10-24T00:00:25Z</td>\n",
              "      <td>NaN</td>\n",
              "      <td>NaN</td>\n",
              "      <td>5.0</td>\n",
              "      <td>We stayed here for four nights in October. The...</td>\n",
              "      <td>Good location on the Lido.</td>\n",
              "      <td>NaN</td>\n",
              "      <td>Julie</td>\n",
              "      <td>NaN</td>\n",
              "    </tr>\n",
              "    <tr>\n",
              "      <th>4</th>\n",
              "      <td>Riviera San Nicol 11/a</td>\n",
              "      <td>Hotels</td>\n",
              "      <td>Mableton</td>\n",
              "      <td>US</td>\n",
              "      <td>45.421611</td>\n",
              "      <td>12.376187</td>\n",
              "      <td>Hotel Russo Palace</td>\n",
              "      <td>30126</td>\n",
              "      <td>GA</td>\n",
              "      <td>2015-03-05T00:00:00Z</td>\n",
              "      <td>2016-10-24T00:00:25Z</td>\n",
              "      <td>NaN</td>\n",
              "      <td>NaN</td>\n",
              "      <td>5.0</td>\n",
              "      <td>We stayed here for four nights in October. The...</td>\n",
              "      <td>������ ���������������</td>\n",
              "      <td>NaN</td>\n",
              "      <td>sungchul</td>\n",
              "      <td>NaN</td>\n",
              "    </tr>\n",
              "  </tbody>\n",
              "</table>\n",
              "</div>"
            ],
            "text/plain": [
              "                  address categories  ... reviews.username reviews.userProvince\n",
              "0  Riviera San Nicol 11/a     Hotels  ...      Russ (kent)                  NaN\n",
              "1  Riviera San Nicol 11/a     Hotels  ...       A Traveler                  NaN\n",
              "2  Riviera San Nicol 11/a     Hotels  ...             Maud                  NaN\n",
              "3  Riviera San Nicol 11/a     Hotels  ...            Julie                  NaN\n",
              "4  Riviera San Nicol 11/a     Hotels  ...         sungchul                  NaN\n",
              "\n",
              "[5 rows x 19 columns]"
            ]
          },
          "metadata": {
            "tags": []
          },
          "execution_count": 220
        }
      ]
    },
    {
      "cell_type": "code",
      "metadata": {
        "id": "VsKRexvREAAj",
        "colab_type": "code",
        "outputId": "2649940c-08e6-4502-84d6-e83c6e9844d9",
        "colab": {
          "base_uri": "https://localhost:8080/",
          "height": 420
        }
      },
      "source": [
        "data.info()"
      ],
      "execution_count": 0,
      "outputs": [
        {
          "output_type": "stream",
          "text": [
            "<class 'pandas.core.frame.DataFrame'>\n",
            "RangeIndex: 35912 entries, 0 to 35911\n",
            "Data columns (total 19 columns):\n",
            "address                 35912 non-null object\n",
            "categories              35912 non-null object\n",
            "city                    35912 non-null object\n",
            "country                 35912 non-null object\n",
            "latitude                35826 non-null float64\n",
            "longitude               35826 non-null float64\n",
            "name                    35912 non-null object\n",
            "postalCode              35857 non-null object\n",
            "province                35912 non-null object\n",
            "reviews.date            35653 non-null object\n",
            "reviews.dateAdded       35912 non-null object\n",
            "reviews.doRecommend     0 non-null float64\n",
            "reviews.id              0 non-null float64\n",
            "reviews.rating          35050 non-null float64\n",
            "reviews.text            35890 non-null object\n",
            "reviews.title           34290 non-null object\n",
            "reviews.userCity        16263 non-null object\n",
            "reviews.username        35869 non-null object\n",
            "reviews.userProvince    17518 non-null object\n",
            "dtypes: float64(5), object(14)\n",
            "memory usage: 5.2+ MB\n"
          ],
          "name": "stdout"
        }
      ]
    },
    {
      "cell_type": "code",
      "metadata": {
        "id": "F9vddwis8WZP",
        "colab_type": "code",
        "colab": {}
      },
      "source": [
        "#Filter out ratings that are zero\n",
        "data = data[data['reviews.rating']>0]\n",
        "\n",
        "#Renaming column names that have a '.' in them\n",
        "data = data.rename(index=str, columns={'reviews.date':'reviewsdate', 'reviews.dateAdded':'reviewsdateAdded',\n",
        "       'reviews.doRecommend':'reviewsdoRecommend', 'reviews.id':'reviewsid', 'reviews.rating':'reviewsrating', 'reviews.text':'reviewstext',\n",
        "       'reviews.title':'reviewstitle', 'reviews.userCity':'reviewsuserCity', 'reviews.username':'reviewsusername',\n",
        "       'reviews.userProvince':'reviewsuserProvince'})\n",
        "data.reviewstext = data.reviewstext.fillna('x')\n",
        "\n",
        "#A few hundred ratings had a score above 5, filtering these out\n",
        "data = data[data['reviewsrating']<=5]\n",
        "\n",
        "#A few hundred ratings had decimals, rounding each of those down to an integer\n",
        "data.reviewsrating = data.reviewsrating.astype(int)"
      ],
      "execution_count": 0,
      "outputs": []
    },
    {
      "cell_type": "code",
      "metadata": {
        "id": "IuOA71Ib8WZS",
        "colab_type": "code",
        "outputId": "964200d0-d74b-42d2-a786-244db8fdc883",
        "colab": {
          "base_uri": "https://localhost:8080/",
          "height": 420
        }
      },
      "source": [
        "data.info()"
      ],
      "execution_count": 0,
      "outputs": [
        {
          "output_type": "stream",
          "text": [
            "<class 'pandas.core.frame.DataFrame'>\n",
            "Index: 34356 entries, 0 to 35909\n",
            "Data columns (total 19 columns):\n",
            "address                34356 non-null object\n",
            "categories             34356 non-null object\n",
            "city                   34356 non-null object\n",
            "country                34356 non-null object\n",
            "latitude               34289 non-null float64\n",
            "longitude              34289 non-null float64\n",
            "name                   34356 non-null object\n",
            "postalCode             34301 non-null object\n",
            "province               34356 non-null object\n",
            "reviewsdate            34312 non-null object\n",
            "reviewsdateAdded       34356 non-null object\n",
            "reviewsdoRecommend     0 non-null float64\n",
            "reviewsid              0 non-null float64\n",
            "reviewsrating          34356 non-null int64\n",
            "reviewstext            34356 non-null object\n",
            "reviewstitle           33717 non-null object\n",
            "reviewsuserCity        15777 non-null object\n",
            "reviewsusername        34313 non-null object\n",
            "reviewsuserProvince    17050 non-null object\n",
            "dtypes: float64(4), int64(1), object(14)\n",
            "memory usage: 5.2+ MB\n"
          ],
          "name": "stdout"
        }
      ]
    },
    {
      "cell_type": "code",
      "metadata": {
        "id": "ke0gMneYBkat",
        "colab_type": "code",
        "outputId": "b3bbe27f-bca3-455e-be7f-45faf68d312e",
        "colab": {
          "base_uri": "https://localhost:8080/",
          "height": 54
        }
      },
      "source": [
        "data.reviewstext[0]"
      ],
      "execution_count": 0,
      "outputs": [
        {
          "output_type": "execute_result",
          "data": {
            "text/plain": [
              "\"Pleasant 10 min walk along the sea front to the Water Bus. restaurants etc. Hotel was comfortable breakfast was good - quite a variety. Room aircon didn't work very well. Take mosquito repelant!\""
            ]
          },
          "metadata": {
            "tags": []
          },
          "execution_count": 224
        }
      ]
    },
    {
      "cell_type": "code",
      "metadata": {
        "id": "VlLRVWIg3PAm",
        "colab_type": "code",
        "outputId": "a7f5e001-b2c3-4aed-d21c-7b07715a5a8c",
        "colab": {
          "base_uri": "https://localhost:8080/",
          "height": 168
        }
      },
      "source": [
        "data.reviewsrating.describe()"
      ],
      "execution_count": 0,
      "outputs": [
        {
          "output_type": "execute_result",
          "data": {
            "text/plain": [
              "count    34356.000000\n",
              "mean         3.759518\n",
              "std          1.276880\n",
              "min          1.000000\n",
              "25%          3.000000\n",
              "50%          4.000000\n",
              "75%          5.000000\n",
              "max          5.000000\n",
              "Name: reviewsrating, dtype: float64"
            ]
          },
          "metadata": {
            "tags": []
          },
          "execution_count": 225
        }
      ]
    },
    {
      "cell_type": "code",
      "metadata": {
        "id": "U9EdUAmEEVAe",
        "colab_type": "code",
        "outputId": "dfafd754-e042-4413-f996-153684b7eff7",
        "colab": {
          "base_uri": "https://localhost:8080/",
          "height": 195
        }
      },
      "source": [
        "df=data[['reviewstext','reviewsrating']]\n",
        "df.head()"
      ],
      "execution_count": 6,
      "outputs": [
        {
          "output_type": "execute_result",
          "data": {
            "text/html": [
              "<div>\n",
              "<style scoped>\n",
              "    .dataframe tbody tr th:only-of-type {\n",
              "        vertical-align: middle;\n",
              "    }\n",
              "\n",
              "    .dataframe tbody tr th {\n",
              "        vertical-align: top;\n",
              "    }\n",
              "\n",
              "    .dataframe thead th {\n",
              "        text-align: right;\n",
              "    }\n",
              "</style>\n",
              "<table border=\"1\" class=\"dataframe\">\n",
              "  <thead>\n",
              "    <tr style=\"text-align: right;\">\n",
              "      <th></th>\n",
              "      <th>reviewstext</th>\n",
              "      <th>reviewsrating</th>\n",
              "    </tr>\n",
              "  </thead>\n",
              "  <tbody>\n",
              "    <tr>\n",
              "      <th>0</th>\n",
              "      <td>Pleasant 10 min walk along the sea front to th...</td>\n",
              "      <td>4</td>\n",
              "    </tr>\n",
              "    <tr>\n",
              "      <th>1</th>\n",
              "      <td>Really lovely hotel. Stayed on the very top fl...</td>\n",
              "      <td>5</td>\n",
              "    </tr>\n",
              "    <tr>\n",
              "      <th>2</th>\n",
              "      <td>Ett mycket bra hotell. Det som drog ner betyge...</td>\n",
              "      <td>5</td>\n",
              "    </tr>\n",
              "    <tr>\n",
              "      <th>3</th>\n",
              "      <td>We stayed here for four nights in October. The...</td>\n",
              "      <td>5</td>\n",
              "    </tr>\n",
              "    <tr>\n",
              "      <th>4</th>\n",
              "      <td>We stayed here for four nights in October. The...</td>\n",
              "      <td>5</td>\n",
              "    </tr>\n",
              "  </tbody>\n",
              "</table>\n",
              "</div>"
            ],
            "text/plain": [
              "                                         reviewstext  reviewsrating\n",
              "0  Pleasant 10 min walk along the sea front to th...              4\n",
              "1  Really lovely hotel. Stayed on the very top fl...              5\n",
              "2  Ett mycket bra hotell. Det som drog ner betyge...              5\n",
              "3  We stayed here for four nights in October. The...              5\n",
              "4  We stayed here for four nights in October. The...              5"
            ]
          },
          "metadata": {
            "tags": []
          },
          "execution_count": 6
        }
      ]
    },
    {
      "cell_type": "code",
      "metadata": {
        "id": "4nYrt2iIEkzA",
        "colab_type": "code",
        "colab": {}
      },
      "source": [
        "df=df.dropna()"
      ],
      "execution_count": 0,
      "outputs": []
    },
    {
      "cell_type": "code",
      "metadata": {
        "id": "X24_0TG3ElgA",
        "colab_type": "code",
        "outputId": "ae0b7d58-0acb-4c78-e1b8-a46951e78385",
        "colab": {
          "base_uri": "https://localhost:8080/",
          "height": 134
        }
      },
      "source": [
        "df.info()"
      ],
      "execution_count": 0,
      "outputs": [
        {
          "output_type": "stream",
          "text": [
            "<class 'pandas.core.frame.DataFrame'>\n",
            "Index: 34356 entries, 0 to 35909\n",
            "Data columns (total 2 columns):\n",
            "reviewstext      34356 non-null object\n",
            "reviewsrating    34356 non-null int64\n",
            "dtypes: int64(1), object(1)\n",
            "memory usage: 805.2+ KB\n"
          ],
          "name": "stdout"
        }
      ]
    },
    {
      "cell_type": "markdown",
      "metadata": {
        "colab_type": "text",
        "id": "Pj0mfui_Godj"
      },
      "source": [
        "## Creating labels from reviews rating"
      ]
    },
    {
      "cell_type": "code",
      "metadata": {
        "id": "-IXMBdw73fGe",
        "colab_type": "code",
        "colab": {}
      },
      "source": [
        "df['labels'] = pd.cut(df['reviewsrating'],3, right=False, labels=[\"bad\", \"medium\", \"good\"])"
      ],
      "execution_count": 0,
      "outputs": []
    },
    {
      "cell_type": "code",
      "metadata": {
        "id": "DFrMXt-U4Oan",
        "colab_type": "code",
        "outputId": "5ac37a78-e631-4510-ce0e-1ce728b73ca5",
        "colab": {
          "base_uri": "https://localhost:8080/",
          "height": 84
        }
      },
      "source": [
        "rev = df['labels'].value_counts()\n",
        "rev.iloc[np.argsort(rev.index)]"
      ],
      "execution_count": 9,
      "outputs": [
        {
          "output_type": "execute_result",
          "data": {
            "text/plain": [
              "bad        6058\n",
              "medium     5747\n",
              "good      22551\n",
              "Name: labels, dtype: int64"
            ]
          },
          "metadata": {
            "tags": []
          },
          "execution_count": 9
        }
      ]
    },
    {
      "cell_type": "code",
      "metadata": {
        "id": "eR93J2r76yfr",
        "colab_type": "code",
        "outputId": "867cf37c-9aef-40bd-8f97-974fc957bfa6",
        "colab": {
          "base_uri": "https://localhost:8080/",
          "height": 195
        }
      },
      "source": [
        "df = df[['reviewstext','labels']]\n",
        "df.head()"
      ],
      "execution_count": 10,
      "outputs": [
        {
          "output_type": "execute_result",
          "data": {
            "text/html": [
              "<div>\n",
              "<style scoped>\n",
              "    .dataframe tbody tr th:only-of-type {\n",
              "        vertical-align: middle;\n",
              "    }\n",
              "\n",
              "    .dataframe tbody tr th {\n",
              "        vertical-align: top;\n",
              "    }\n",
              "\n",
              "    .dataframe thead th {\n",
              "        text-align: right;\n",
              "    }\n",
              "</style>\n",
              "<table border=\"1\" class=\"dataframe\">\n",
              "  <thead>\n",
              "    <tr style=\"text-align: right;\">\n",
              "      <th></th>\n",
              "      <th>reviewstext</th>\n",
              "      <th>labels</th>\n",
              "    </tr>\n",
              "  </thead>\n",
              "  <tbody>\n",
              "    <tr>\n",
              "      <th>0</th>\n",
              "      <td>Pleasant 10 min walk along the sea front to th...</td>\n",
              "      <td>good</td>\n",
              "    </tr>\n",
              "    <tr>\n",
              "      <th>1</th>\n",
              "      <td>Really lovely hotel. Stayed on the very top fl...</td>\n",
              "      <td>good</td>\n",
              "    </tr>\n",
              "    <tr>\n",
              "      <th>2</th>\n",
              "      <td>Ett mycket bra hotell. Det som drog ner betyge...</td>\n",
              "      <td>good</td>\n",
              "    </tr>\n",
              "    <tr>\n",
              "      <th>3</th>\n",
              "      <td>We stayed here for four nights in October. The...</td>\n",
              "      <td>good</td>\n",
              "    </tr>\n",
              "    <tr>\n",
              "      <th>4</th>\n",
              "      <td>We stayed here for four nights in October. The...</td>\n",
              "      <td>good</td>\n",
              "    </tr>\n",
              "  </tbody>\n",
              "</table>\n",
              "</div>"
            ],
            "text/plain": [
              "                                         reviewstext labels\n",
              "0  Pleasant 10 min walk along the sea front to th...   good\n",
              "1  Really lovely hotel. Stayed on the very top fl...   good\n",
              "2  Ett mycket bra hotell. Det som drog ner betyge...   good\n",
              "3  We stayed here for four nights in October. The...   good\n",
              "4  We stayed here for four nights in October. The...   good"
            ]
          },
          "metadata": {
            "tags": []
          },
          "execution_count": 10
        }
      ]
    },
    {
      "cell_type": "code",
      "metadata": {
        "id": "I86ay6Ms68eo",
        "colab_type": "code",
        "outputId": "14c6c731-a3f3-41ad-8084-f63230988bab",
        "colab": {
          "base_uri": "https://localhost:8080/",
          "height": 195
        }
      },
      "source": [
        "df.groupby('labels').describe()"
      ],
      "execution_count": 11,
      "outputs": [
        {
          "output_type": "execute_result",
          "data": {
            "text/html": [
              "<div>\n",
              "<style scoped>\n",
              "    .dataframe tbody tr th:only-of-type {\n",
              "        vertical-align: middle;\n",
              "    }\n",
              "\n",
              "    .dataframe tbody tr th {\n",
              "        vertical-align: top;\n",
              "    }\n",
              "\n",
              "    .dataframe thead tr th {\n",
              "        text-align: left;\n",
              "    }\n",
              "\n",
              "    .dataframe thead tr:last-of-type th {\n",
              "        text-align: right;\n",
              "    }\n",
              "</style>\n",
              "<table border=\"1\" class=\"dataframe\">\n",
              "  <thead>\n",
              "    <tr>\n",
              "      <th></th>\n",
              "      <th colspan=\"4\" halign=\"left\">reviewstext</th>\n",
              "    </tr>\n",
              "    <tr>\n",
              "      <th></th>\n",
              "      <th>count</th>\n",
              "      <th>unique</th>\n",
              "      <th>top</th>\n",
              "      <th>freq</th>\n",
              "    </tr>\n",
              "    <tr>\n",
              "      <th>labels</th>\n",
              "      <th></th>\n",
              "      <th></th>\n",
              "      <th></th>\n",
              "      <th></th>\n",
              "    </tr>\n",
              "  </thead>\n",
              "  <tbody>\n",
              "    <tr>\n",
              "      <th>bad</th>\n",
              "      <td>6058</td>\n",
              "      <td>5942</td>\n",
              "      <td>Free coffee refills and budget rates make this...</td>\n",
              "      <td>6</td>\n",
              "    </tr>\n",
              "    <tr>\n",
              "      <th>medium</th>\n",
              "      <td>5747</td>\n",
              "      <td>5664</td>\n",
              "      <td>Ok</td>\n",
              "      <td>4</td>\n",
              "    </tr>\n",
              "    <tr>\n",
              "      <th>good</th>\n",
              "      <td>22551</td>\n",
              "      <td>21927</td>\n",
              "      <td>Great</td>\n",
              "      <td>23</td>\n",
              "    </tr>\n",
              "  </tbody>\n",
              "</table>\n",
              "</div>"
            ],
            "text/plain": [
              "       reviewstext  ...     \n",
              "             count  ... freq\n",
              "labels              ...     \n",
              "bad           6058  ...    6\n",
              "medium        5747  ...    4\n",
              "good         22551  ...   23\n",
              "\n",
              "[3 rows x 4 columns]"
            ]
          },
          "metadata": {
            "tags": []
          },
          "execution_count": 11
        }
      ]
    },
    {
      "cell_type": "code",
      "metadata": {
        "id": "7zVVc8On8WZZ",
        "colab_type": "code",
        "outputId": "e04332ab-d031-4e40-e4ac-5c8039b71a3e",
        "colab": {
          "base_uri": "https://localhost:8080/",
          "height": 195
        }
      },
      "source": [
        "df['length'] = df['reviewstext'].apply(len)\n",
        "df.head()"
      ],
      "execution_count": 12,
      "outputs": [
        {
          "output_type": "execute_result",
          "data": {
            "text/html": [
              "<div>\n",
              "<style scoped>\n",
              "    .dataframe tbody tr th:only-of-type {\n",
              "        vertical-align: middle;\n",
              "    }\n",
              "\n",
              "    .dataframe tbody tr th {\n",
              "        vertical-align: top;\n",
              "    }\n",
              "\n",
              "    .dataframe thead th {\n",
              "        text-align: right;\n",
              "    }\n",
              "</style>\n",
              "<table border=\"1\" class=\"dataframe\">\n",
              "  <thead>\n",
              "    <tr style=\"text-align: right;\">\n",
              "      <th></th>\n",
              "      <th>reviewstext</th>\n",
              "      <th>labels</th>\n",
              "      <th>length</th>\n",
              "    </tr>\n",
              "  </thead>\n",
              "  <tbody>\n",
              "    <tr>\n",
              "      <th>0</th>\n",
              "      <td>Pleasant 10 min walk along the sea front to th...</td>\n",
              "      <td>good</td>\n",
              "      <td>194</td>\n",
              "    </tr>\n",
              "    <tr>\n",
              "      <th>1</th>\n",
              "      <td>Really lovely hotel. Stayed on the very top fl...</td>\n",
              "      <td>good</td>\n",
              "      <td>252</td>\n",
              "    </tr>\n",
              "    <tr>\n",
              "      <th>2</th>\n",
              "      <td>Ett mycket bra hotell. Det som drog ner betyge...</td>\n",
              "      <td>good</td>\n",
              "      <td>136</td>\n",
              "    </tr>\n",
              "    <tr>\n",
              "      <th>3</th>\n",
              "      <td>We stayed here for four nights in October. The...</td>\n",
              "      <td>good</td>\n",
              "      <td>354</td>\n",
              "    </tr>\n",
              "    <tr>\n",
              "      <th>4</th>\n",
              "      <td>We stayed here for four nights in October. The...</td>\n",
              "      <td>good</td>\n",
              "      <td>354</td>\n",
              "    </tr>\n",
              "  </tbody>\n",
              "</table>\n",
              "</div>"
            ],
            "text/plain": [
              "                                         reviewstext labels  length\n",
              "0  Pleasant 10 min walk along the sea front to th...   good     194\n",
              "1  Really lovely hotel. Stayed on the very top fl...   good     252\n",
              "2  Ett mycket bra hotell. Det som drog ner betyge...   good     136\n",
              "3  We stayed here for four nights in October. The...   good     354\n",
              "4  We stayed here for four nights in October. The...   good     354"
            ]
          },
          "metadata": {
            "tags": []
          },
          "execution_count": 12
        }
      ]
    },
    {
      "cell_type": "markdown",
      "metadata": {
        "colab_type": "text",
        "id": "h5zqebC27o4R"
      },
      "source": [
        "Let's visualize this! Let's do the imports:"
      ]
    },
    {
      "cell_type": "code",
      "metadata": {
        "colab_type": "code",
        "outputId": "2dad430b-eba6-49ca-cd4c-be110f2f1392",
        "id": "S4eQW6N-7o4H",
        "colab": {
          "base_uri": "https://localhost:8080/",
          "height": 286
        }
      },
      "source": [
        "df['length'].plot(bins=100, kind='hist') "
      ],
      "execution_count": 0,
      "outputs": [
        {
          "output_type": "execute_result",
          "data": {
            "text/plain": [
              "<matplotlib.axes._subplots.AxesSubplot at 0x7ff2bb2856d8>"
            ]
          },
          "metadata": {
            "tags": []
          },
          "execution_count": 234
        },
        {
          "output_type": "display_data",
          "data": {
            "image/png": "[encoded data removed]",
            "text/plain": [
              "<Figure size 432x288 with 1 Axes>"
            ]
          },
          "metadata": {
            "tags": []
          }
        }
      ]
    },
    {
      "cell_type": "code",
      "metadata": {
        "colab_type": "code",
        "outputId": "eb56a1a2-1f12-486b-c6c1-54cabb0adbaa",
        "id": "vrYnINIc7o37",
        "colab": {
          "base_uri": "https://localhost:8080/",
          "height": 168
        }
      },
      "source": [
        "df.length.describe()"
      ],
      "execution_count": 0,
      "outputs": [
        {
          "output_type": "execute_result",
          "data": {
            "text/plain": [
              "count    34356.000000\n",
              "mean       255.013215\n",
              "std        218.009275\n",
              "min          1.000000\n",
              "25%        102.000000\n",
              "50%        225.000000\n",
              "75%        330.000000\n",
              "max       3772.000000\n",
              "Name: length, dtype: float64"
            ]
          },
          "metadata": {
            "tags": []
          },
          "execution_count": 235
        }
      ]
    },
    {
      "cell_type": "code",
      "metadata": {
        "colab_type": "code",
        "outputId": "d6d90bfa-265f-4114-8709-8bd5453467e6",
        "id": "uhHTIoKv7o31",
        "colab": {
          "base_uri": "https://localhost:8080/",
          "height": 54
        }
      },
      "source": [
        "df[df['length'] == 3772]['reviewstext'].iloc[0]"
      ],
      "execution_count": 0,
      "outputs": [
        {
          "output_type": "execute_result",
          "data": {
            "text/plain": [
              "\"Denied access, after fully paid confirmed reservation My problems with this company began in December 2011 when I purchased two Groupon vouchers at 329 each for two nights each. The fine print stated there was an additional fee of 125 for cleaning and insurance per voucher, as well as 12.5 tax. After several days of trying to reach a live person I was able to get a registration clerk who informed me that several of the days I needed were blacked out to Groupon users, as well as certain cabins. This was not listed in the fine print and thus I had to receive a refund on one due to the dates I needed being blacked out. A few days later I called to book for the second voucher and was informed that the additional fees totaled more than 250. I explained what my voucher said, and that my fees should total 181.75 per the Groupon. The clerk refused to budge and also refused to allow me to speak with a member of management, stating, the buck stops with me, if you don't want to pay it, get a refund. And hung up on me. I repeatedly tried to call back and as soon as the phone would be picked up it would be hung up. I emailed their website, as well as left comments on the company facebook with the facts I have stated here. Not only did I not receive a response but I was blocked from their facebook. Apparently a glutton for punishment I called once again and got a young man on the phone in their offices and he told me that he would charge my card 189, alot less than 250, but still more than the Groupon states, and that would cover the remaining fees. Imagine my chagrin when I begin receiving past due emails from Elk Springs. I replied with the fact that I had provided my card information and did not wish to sit on hold with them or be hung up on yet again. I received a reply asking if I would like a callback, but before I could reply I received another message stating if I do not want to pay the fees to call Groupon and get a refund. I immediately called the office as soon as I received the message to mhy smartphone, to speak directly with the unprofessional woman I had been corresponding. She of course was out. No longer having any fight left in me, as this was supposed to be a christmas gift to a friend, I paid 194 to finalize my reservations. Keep in mind that this is the 3rd additional fee I had been stated that was different, and still not in line with the Groupon. Now, one week before our trip I finally was able to settle this horrible experience and got a confirmation, paid in full. However, due to the lack of customer service and downright disdain from this company I filed a complaint with the BBB asking that I receive an apology and possibly a small discount after this terrible experience, even before we have arrived. The owner responded by canceling our stay, three days prior to our arrival. I explained to him that it was not my desire to cancel, but that I wanted the lack of service addressed. He refused, stating that he could do whatever I want. I explained, yes, you can do whatever you want, however with three days notice and over 550 tied up and yet to be refunded for the lodging, our family cannot find alternative lodging. Further, in the state of TN there are only 3 reasons an innkeeper can refuse access to someone with a confirmed, fully paid reservation, and a BBB complaint is not one of them. Now my family has all taken vacation time and we have to try and secure lodging in the next two days, and I have to use money that was allocated for travel and activities. I am not sure we will be able to have a vacation due to the malice of this business owner. I do intend to seek further legal action. It is a beautiful property, but it is run by the most unprofessional owner and staff I have ever encountered.\""
            ]
          },
          "metadata": {
            "tags": []
          },
          "execution_count": 236
        }
      ]
    },
    {
      "cell_type": "code",
      "metadata": {
        "colab_type": "code",
        "outputId": "996ff298-e23e-4980-8dc7-0271b47d0d7a",
        "id": "1jXxx_Kv7o3a",
        "colab": {
          "base_uri": "https://localhost:8080/",
          "height": 595
        }
      },
      "source": [
        "df.hist(column='length', by='labels', bins=50,figsize=(10,8))"
      ],
      "execution_count": 0,
      "outputs": [
        {
          "output_type": "execute_result",
          "data": {
            "text/plain": [
              "array([[<matplotlib.axes._subplots.AxesSubplot object at 0x7ff2bcc6b5f8>,\n",
              "        <matplotlib.axes._subplots.AxesSubplot object at 0x7ff2c36686d8>],\n",
              "       [<matplotlib.axes._subplots.AxesSubplot object at 0x7ff2c36946d8>,\n",
              "        <matplotlib.axes._subplots.AxesSubplot object at 0x7ff2c363c7f0>]],\n",
              "      dtype=object)"
            ]
          },
          "metadata": {
            "tags": []
          },
          "execution_count": 237
        },
        {
          "output_type": "display_data",
          "data": {
            "image/png": "[encoded data removed]",
            "text/plain": [
              "<Figure size 720x576 with 4 Axes>"
            ]
          },
          "metadata": {
            "tags": []
          }
        }
      ]
    },
    {
      "cell_type": "markdown",
      "metadata": {
        "id": "mIy1Qam28WZr",
        "colab_type": "text"
      },
      "source": [
        "## Text Pre-processing"
      ]
    },
    {
      "cell_type": "code",
      "metadata": {
        "id": "iArPRQdac7AC",
        "colab_type": "code",
        "colab": {}
      },
      "source": [
        "X = df.reviewstext\n",
        "y = df.labels"
      ],
      "execution_count": 0,
      "outputs": []
    },
    {
      "cell_type": "code",
      "metadata": {
        "id": "20vo4d0Xc8z_",
        "colab_type": "code",
        "colab": {}
      },
      "source": [
        "documents = []\n",
        "\n",
        "stemmer = WordNetLemmatizer()\n",
        "\n",
        "for sen in range(0, len(X)):  \n",
        "    # Remove all the special characters\n",
        "    document = re.sub(r'\\W', ' ', str(X[sen]))\n",
        "\n",
        "    # remove all single characters\n",
        "    document = re.sub(r'\\s+[a-zA-Z]\\s+', ' ', document)\n",
        "\n",
        "    # Remove single characters from the start\n",
        "    document = re.sub(r'\\^[a-zA-Z]\\s+', ' ', document) \n",
        "\n",
        "    # Substituting multiple spaces with single space\n",
        "    document = re.sub(r'\\s+', ' ', document, flags=re.I)\n",
        "\n",
        "    # Removing prefixed 'b'\n",
        "    document = re.sub(r'^b\\s+', '', document)\n",
        "\n",
        "    # Converting to Lowercase\n",
        "    document = document.lower()\n",
        "\n",
        "    # Lemmatization\n",
        "    document = document.split()\n",
        "\n",
        "    document = [stemmer.lemmatize(word) for word in document]\n",
        "    document = ' '.join(document)\n",
        "\n",
        "    documents.append(document)"
      ],
      "execution_count": 0,
      "outputs": []
    },
    {
      "cell_type": "code",
      "metadata": {
        "id": "O4uXsSVHdBqh",
        "colab_type": "code",
        "outputId": "4a923422-98cc-4464-87c7-661208b965d0",
        "colab": {
          "base_uri": "https://localhost:8080/",
          "height": 54
        }
      },
      "source": [
        "documents[0]"
      ],
      "execution_count": 0,
      "outputs": [
        {
          "output_type": "execute_result",
          "data": {
            "text/plain": [
              "'pleasant 10 min walk along the sea front to the water bus restaurant etc hotel wa comfortable breakfast wa good quite variety room aircon didn work very well take mosquito repelant'"
            ]
          },
          "metadata": {
            "tags": []
          },
          "execution_count": 240
        }
      ]
    },
    {
      "cell_type": "code",
      "metadata": {
        "id": "iSlIi35f8WZr",
        "colab_type": "code",
        "colab": {}
      },
      "source": [
        "import string\n",
        "\n",
        "mess = 'Sample message! Notice: it has punctuation.'\n",
        "\n",
        "# Check characters to see if they are in punctuation\n",
        "nopunc = [char for char in mess if char not in string.punctuation]\n",
        "\n",
        "# Join the characters again to form the string.\n",
        "nopunc = ''.join(nopunc)"
      ],
      "execution_count": 0,
      "outputs": []
    },
    {
      "cell_type": "code",
      "metadata": {
        "id": "4AOZydhS8WZt",
        "colab_type": "code",
        "outputId": "7659e24f-2d95-4c8b-f1bd-44e3d2e405f3",
        "colab": {
          "base_uri": "https://localhost:8080/",
          "height": 34
        }
      },
      "source": [
        "nopunc"
      ],
      "execution_count": 0,
      "outputs": [
        {
          "output_type": "execute_result",
          "data": {
            "text/plain": [
              "'Sample message Notice it has punctuation'"
            ]
          },
          "metadata": {
            "tags": []
          },
          "execution_count": 93
        }
      ]
    },
    {
      "cell_type": "code",
      "metadata": {
        "id": "vci-qBv18WZ1",
        "colab_type": "code",
        "outputId": "5d379411-15de-445e-f881-72e9d529666b",
        "colab": {
          "base_uri": "https://localhost:8080/",
          "height": 34
        }
      },
      "source": [
        "stopwords.words('english')[0:10] # Show some stop words"
      ],
      "execution_count": 19,
      "outputs": [
        {
          "output_type": "execute_result",
          "data": {
            "text/plain": [
              "['i', 'me', 'my', 'myself', 'we', 'our', 'ours', 'ourselves', 'you', \"you're\"]"
            ]
          },
          "metadata": {
            "tags": []
          },
          "execution_count": 19
        }
      ]
    },
    {
      "cell_type": "code",
      "metadata": {
        "id": "dZARdWM08WZ3",
        "colab_type": "code",
        "outputId": "c72fc682-db39-43c3-fe68-f627a8adfc3b",
        "colab": {
          "base_uri": "https://localhost:8080/",
          "height": 34
        }
      },
      "source": [
        "nopunc.split()"
      ],
      "execution_count": 0,
      "outputs": [
        {
          "output_type": "execute_result",
          "data": {
            "text/plain": [
              "['Sample', 'message', 'Notice', 'it', 'has', 'punctuation']"
            ]
          },
          "metadata": {
            "tags": []
          },
          "execution_count": 95
        }
      ]
    },
    {
      "cell_type": "code",
      "metadata": {
        "id": "iB-MdnOu8WZ6",
        "colab_type": "code",
        "colab": {}
      },
      "source": [
        "# Now just remove any stopwords\n",
        "clean_mess = [word for word in nopunc.split() if word.lower() not in stopwords.words('english')]"
      ],
      "execution_count": 0,
      "outputs": []
    },
    {
      "cell_type": "code",
      "metadata": {
        "id": "PJjSx6Us8WZ8",
        "colab_type": "code",
        "outputId": "2d450e2d-d16d-4f65-d9d8-aee61947234a",
        "colab": {
          "base_uri": "https://localhost:8080/",
          "height": 34
        }
      },
      "source": [
        "clean_mess"
      ],
      "execution_count": 0,
      "outputs": [
        {
          "output_type": "execute_result",
          "data": {
            "text/plain": [
              "['Sample', 'message', 'Notice', 'punctuation']"
            ]
          },
          "metadata": {
            "tags": []
          },
          "execution_count": 97
        }
      ]
    },
    {
      "cell_type": "code",
      "metadata": {
        "id": "IQS0y2-r8WZ_",
        "colab_type": "code",
        "colab": {}
      },
      "source": [
        "def text_process(mess):\n",
        "    \"\"\"\n",
        "    Takes in a string of text, then performs the following:\n",
        "    1. Remove all punctuation\n",
        "    2. Remove all stopwords\n",
        "    3. Returns a list of the cleaned text\n",
        "    \"\"\"\n",
        "    # Check characters to see if they are in punctuation\n",
        "    nopunc = [char for char in mess if char not in string.punctuation]\n",
        "\n",
        "    # Join the characters again to form the string.\n",
        "    nopunc = ''.join(nopunc)\n",
        "    \n",
        "    # Now just remove any stopwords\n",
        "    return [word for word in nopunc.split() if word.lower() not in stopwords.words('english')]"
      ],
      "execution_count": 0,
      "outputs": []
    },
    {
      "cell_type": "markdown",
      "metadata": {
        "id": "oEKNYoH28WaA",
        "colab_type": "text"
      },
      "source": [
        "Here is the original DataFrame again:"
      ]
    },
    {
      "cell_type": "code",
      "metadata": {
        "id": "YpFfzsSJ4M1Q",
        "colab_type": "code",
        "outputId": "991ab944-fceb-45cf-e645-b112044d1158",
        "colab": {
          "base_uri": "https://localhost:8080/",
          "height": 195
        }
      },
      "source": [
        "dic = {'reviews_text': documents, 'labels': y}\n",
        "df1 = pd.DataFrame(dic)\n",
        "df1.head()"
      ],
      "execution_count": 21,
      "outputs": [
        {
          "output_type": "execute_result",
          "data": {
            "text/html": [
              "<div>\n",
              "<style scoped>\n",
              "    .dataframe tbody tr th:only-of-type {\n",
              "        vertical-align: middle;\n",
              "    }\n",
              "\n",
              "    .dataframe tbody tr th {\n",
              "        vertical-align: top;\n",
              "    }\n",
              "\n",
              "    .dataframe thead th {\n",
              "        text-align: right;\n",
              "    }\n",
              "</style>\n",
              "<table border=\"1\" class=\"dataframe\">\n",
              "  <thead>\n",
              "    <tr style=\"text-align: right;\">\n",
              "      <th></th>\n",
              "      <th>reviews_text</th>\n",
              "      <th>labels</th>\n",
              "    </tr>\n",
              "  </thead>\n",
              "  <tbody>\n",
              "    <tr>\n",
              "      <th>0</th>\n",
              "      <td>pleasant 10 min walk along the sea front to th...</td>\n",
              "      <td>good</td>\n",
              "    </tr>\n",
              "    <tr>\n",
              "      <th>1</th>\n",
              "      <td>really lovely hotel stayed on the very top flo...</td>\n",
              "      <td>good</td>\n",
              "    </tr>\n",
              "    <tr>\n",
              "      <th>2</th>\n",
              "      <td>ett mycket bra hotell det som drog ner betyget...</td>\n",
              "      <td>good</td>\n",
              "    </tr>\n",
              "    <tr>\n",
              "      <th>3</th>\n",
              "      <td>we stayed here for four night in october the h...</td>\n",
              "      <td>good</td>\n",
              "    </tr>\n",
              "    <tr>\n",
              "      <th>4</th>\n",
              "      <td>we stayed here for four night in october the h...</td>\n",
              "      <td>good</td>\n",
              "    </tr>\n",
              "  </tbody>\n",
              "</table>\n",
              "</div>"
            ],
            "text/plain": [
              "                                        reviews_text labels\n",
              "0  pleasant 10 min walk along the sea front to th...   good\n",
              "1  really lovely hotel stayed on the very top flo...   good\n",
              "2  ett mycket bra hotell det som drog ner betyget...   good\n",
              "3  we stayed here for four night in october the h...   good\n",
              "4  we stayed here for four night in october the h...   good"
            ]
          },
          "metadata": {
            "tags": []
          },
          "execution_count": 21
        }
      ]
    },
    {
      "cell_type": "code",
      "metadata": {
        "id": "hS_vDIbm8WaD",
        "colab_type": "code",
        "outputId": "d5a2c990-24e7-46db-f2a5-441fb6db8225",
        "colab": {
          "base_uri": "https://localhost:8080/",
          "height": 118
        }
      },
      "source": [
        "# Check to make sure its working\n",
        "df1['reviews_text'].head(5).apply(text_process)"
      ],
      "execution_count": 0,
      "outputs": [
        {
          "output_type": "execute_result",
          "data": {
            "text/plain": [
              "0    [pleasant, 10, min, walk, along, sea, front, w...\n",
              "1    [really, lovely, hotel, stayed, top, floor, su...\n",
              "2    [ett, mycket, bra, hotell, det, som, drog, ner...\n",
              "3    [stayed, four, night, october, hotel, staff, w...\n",
              "4    [stayed, four, night, october, hotel, staff, w...\n",
              "Name: reviews_text, dtype: object"
            ]
          },
          "metadata": {
            "tags": []
          },
          "execution_count": 262
        }
      ]
    },
    {
      "cell_type": "markdown",
      "metadata": {
        "id": "K_HscEll8WaI",
        "colab_type": "text"
      },
      "source": [
        "## Vectorization"
      ]
    },
    {
      "cell_type": "code",
      "metadata": {
        "id": "S3BucZ3K8WaJ",
        "colab_type": "code",
        "colab": {}
      },
      "source": [
        "from sklearn.feature_extraction.text import CountVectorizer  \n",
        "\n",
        "vectorizer = CountVectorizer(analyzer=text_process).fit(df1['reviews_text'])"
      ],
      "execution_count": 0,
      "outputs": []
    },
    {
      "cell_type": "code",
      "metadata": {
        "id": "oI3I3euZ1gg6",
        "colab_type": "code",
        "outputId": "e16dbdd8-9b2d-4dbf-c6c9-bcb583e9f5aa",
        "colab": {
          "base_uri": "https://localhost:8080/",
          "height": 34
        }
      },
      "source": [
        "len(vectorizer.vocabulary_)"
      ],
      "execution_count": 23,
      "outputs": [
        {
          "output_type": "execute_result",
          "data": {
            "text/plain": [
              "29110"
            ]
          },
          "metadata": {
            "tags": []
          },
          "execution_count": 23
        }
      ]
    },
    {
      "cell_type": "code",
      "metadata": {
        "id": "CvUzgxgj8WaS",
        "colab_type": "code",
        "outputId": "a147d9b7-65ef-42d7-ca72-890139456db2",
        "colab": {
          "base_uri": "https://localhost:8080/",
          "height": 54
        }
      },
      "source": [
        "review6 = X[5]\n",
        "print(review6)"
      ],
      "execution_count": 24,
      "outputs": [
        {
          "output_type": "stream",
          "text": [
            "We loved staying on the island of Lido! You need to take a water is from Venice to get there. From the train station, a boat ride takes 45 minutes but has beautiful views along the way. Hotel is an EASY walk from the boat dock. The room was very clean and the breakfast was plentiful. We would definitely recommend this hotel!\n"
          ],
          "name": "stdout"
        }
      ]
    },
    {
      "cell_type": "code",
      "metadata": {
        "id": "WZ7jHNHq8WaV",
        "colab_type": "code",
        "outputId": "514f68cb-034f-46c7-d07c-614543e2f6c3",
        "colab": {
          "base_uri": "https://localhost:8080/",
          "height": 454
        }
      },
      "source": [
        "bow6 = vectorizer.transform([review6])\n",
        "print(bow6)\n",
        "print(bow6.shape)"
      ],
      "execution_count": 25,
      "outputs": [
        {
          "output_type": "stream",
          "text": [
            "  (0, 620)\t1\n",
            "  (0, 1657)\t1\n",
            "  (0, 3186)\t1\n",
            "  (0, 3752)\t2\n",
            "  (0, 4000)\t1\n",
            "  (0, 5364)\t1\n",
            "  (0, 7140)\t1\n",
            "  (0, 7960)\t1\n",
            "  (0, 11207)\t1\n",
            "  (0, 12581)\t1\n",
            "  (0, 13679)\t1\n",
            "  (0, 15359)\t1\n",
            "  (0, 17169)\t1\n",
            "  (0, 19364)\t1\n",
            "  (0, 20868)\t1\n",
            "  (0, 21695)\t1\n",
            "  (0, 21919)\t1\n",
            "  (0, 24322)\t1\n",
            "  (0, 24348)\t1\n",
            "  (0, 25152)\t1\n",
            "  (0, 26109)\t1\n",
            "  (0, 27972)\t1\n",
            "  (0, 28077)\t1\n",
            "  (0, 28115)\t1\n",
            "  (0, 28590)\t1\n",
            "(1, 29110)\n"
          ],
          "name": "stdout"
        }
      ]
    },
    {
      "cell_type": "code",
      "metadata": {
        "id": "nq3bgRd38WaZ",
        "colab_type": "code",
        "outputId": "e551bbd6-5ce4-49bd-df69-bad9985f781f",
        "colab": {
          "base_uri": "https://localhost:8080/",
          "height": 50
        }
      },
      "source": [
        "print(vectorizer.get_feature_names()[3186])\n",
        "print(vectorizer.get_feature_names()[28115])"
      ],
      "execution_count": 26,
      "outputs": [
        {
          "output_type": "stream",
          "text": [
            "beautiful\n",
            "way\n"
          ],
          "name": "stdout"
        }
      ]
    },
    {
      "cell_type": "code",
      "metadata": {
        "id": "yiBgRqwK8Wad",
        "colab_type": "code",
        "colab": {}
      },
      "source": [
        "reviews_bow = vectorizer.transform(df1['reviews_text'])"
      ],
      "execution_count": 0,
      "outputs": []
    },
    {
      "cell_type": "code",
      "metadata": {
        "id": "0tMg5iws8Waf",
        "colab_type": "code",
        "outputId": "df687398-69db-460f-fda4-cc024b8777a7",
        "colab": {
          "base_uri": "https://localhost:8080/",
          "height": 50
        }
      },
      "source": [
        "print('Shape of Sparse Matrix: ', reviews_bow.shape)\n",
        "print('Amount of Non-Zero occurences: ', reviews_bow.nnz)"
      ],
      "execution_count": 28,
      "outputs": [
        {
          "output_type": "stream",
          "text": [
            "Shape of Sparse Matrix:  (34356, 29110)\n",
            "Amount of Non-Zero occurences:  787355\n"
          ],
          "name": "stdout"
        }
      ]
    },
    {
      "cell_type": "code",
      "metadata": {
        "id": "X2e01FJG8Waj",
        "colab_type": "code",
        "outputId": "c343d45d-c171-473c-b584-e3fdb0c544ee",
        "colab": {
          "base_uri": "https://localhost:8080/",
          "height": 50
        }
      },
      "source": [
        "sparsity = (100.0 * reviews_bow.nnz / (reviews_bow.shape[0] * reviews_bow.shape[1]))\n",
        "print('sparsity: {}'.format(round(sparsity)))\n",
        "print('sparsity: {}'.format(sparsity))"
      ],
      "execution_count": 29,
      "outputs": [
        {
          "output_type": "stream",
          "text": [
            "sparsity: 0\n",
            "sparsity: 0.07872737848363563\n"
          ],
          "name": "stdout"
        }
      ]
    },
    {
      "cell_type": "code",
      "metadata": {
        "colab_type": "code",
        "outputId": "c56292dc-8d15-46c2-c1f0-74a33700c706",
        "id": "7tSCzyqxCSzu",
        "colab": {
          "base_uri": "https://localhost:8080/",
          "height": 437
        }
      },
      "source": [
        "from sklearn.feature_extraction.text import TfidfTransformer\n",
        "\n",
        "tfidfconverter = TfidfTransformer().fit(reviews_bow)\n",
        "\n",
        "tfidf6 = tfidfconverter.transform(bow6)\n",
        "print(tfidf6)"
      ],
      "execution_count": 30,
      "outputs": [
        {
          "output_type": "stream",
          "text": [
            "  (0, 28590)\t0.10484360612456795\n",
            "  (0, 28115)\t0.1482918082741142\n",
            "  (0, 28077)\t0.15735462914956574\n",
            "  (0, 27972)\t0.15679284129881893\n",
            "  (0, 26109)\t0.21230660353636258\n",
            "  (0, 25152)\t0.16814523412237894\n",
            "  (0, 24348)\t0.15501109587929324\n",
            "  (0, 24322)\t0.19798963587559268\n",
            "  (0, 21919)\t0.06157189779420627\n",
            "  (0, 21695)\t0.22261799351806624\n",
            "  (0, 20868)\t0.1468570522444371\n",
            "  (0, 19364)\t0.2604622575207621\n",
            "  (0, 17169)\t0.13593857324798087\n",
            "  (0, 15359)\t0.16340841215572943\n",
            "  (0, 13679)\t0.2577378201909935\n",
            "  (0, 12581)\t0.0696352076462287\n",
            "  (0, 11207)\t0.12511112710454098\n",
            "  (0, 7960)\t0.297993325558555\n",
            "  (0, 7140)\t0.1477590071900157\n",
            "  (0, 5364)\t0.08477141051851446\n",
            "  (0, 4000)\t0.09029782032995437\n",
            "  (0, 3752)\t0.5056869464463525\n",
            "  (0, 3186)\t0.15645383165990084\n",
            "  (0, 1657)\t0.20575378436104128\n",
            "  (0, 620)\t0.2402573499756617\n"
          ],
          "name": "stdout"
        }
      ]
    },
    {
      "cell_type": "code",
      "metadata": {
        "colab_type": "code",
        "outputId": "81ba0c90-53d9-4409-bb38-79c7ae1bf516",
        "id": "V1rFPAe6CSzJ",
        "colab": {
          "base_uri": "https://localhost:8080/",
          "height": 34
        }
      },
      "source": [
        "reviews_tfidf = tfidfconverter.transform(reviews_bow)\n",
        "print(reviews_tfidf.shape)"
      ],
      "execution_count": 31,
      "outputs": [
        {
          "output_type": "stream",
          "text": [
            "(34356, 29110)\n"
          ],
          "name": "stdout"
        }
      ]
    },
    {
      "cell_type": "markdown",
      "metadata": {
        "id": "Aka6eKVd8Wav",
        "colab_type": "text"
      },
      "source": [
        "## Training a model"
      ]
    },
    {
      "cell_type": "code",
      "metadata": {
        "id": "1mkMeBDV8Waw",
        "colab_type": "code",
        "colab": {}
      },
      "source": [
        "from sklearn.naive_bayes import MultinomialNB\n",
        "nb = MultinomialNB().fit(reviews_tfidf, df1['labels'])"
      ],
      "execution_count": 0,
      "outputs": []
    },
    {
      "cell_type": "markdown",
      "metadata": {
        "id": "28jxaZC58Wax",
        "colab_type": "text"
      },
      "source": [
        "Let's try classifying our single random message and checking how we do:"
      ]
    },
    {
      "cell_type": "code",
      "metadata": {
        "id": "_X5zcuvs8Way",
        "colab_type": "code",
        "outputId": "150ca305-f013-4d07-d885-74fa9b90e194",
        "colab": {
          "base_uri": "https://localhost:8080/",
          "height": 50
        }
      },
      "source": [
        "print('predicted:', nb.predict(tfidf6)[0])\n",
        "print('expected:', y[1])"
      ],
      "execution_count": 33,
      "outputs": [
        {
          "output_type": "stream",
          "text": [
            "predicted: good\n",
            "expected: good\n"
          ],
          "name": "stdout"
        }
      ]
    },
    {
      "cell_type": "markdown",
      "metadata": {
        "id": "c78qqbov8Wa0",
        "colab_type": "text"
      },
      "source": [
        "## Model Evaluation"
      ]
    },
    {
      "cell_type": "code",
      "metadata": {
        "id": "bmPaV2z98Wa0",
        "colab_type": "code",
        "outputId": "aed77587-a93d-46fe-95eb-084dbc105d5d",
        "colab": {
          "base_uri": "https://localhost:8080/",
          "height": 34
        }
      },
      "source": [
        "all_predictions = nb.predict(reviews_tfidf)\n",
        "print(all_predictions)"
      ],
      "execution_count": 34,
      "outputs": [
        {
          "output_type": "stream",
          "text": [
            "['good' 'good' 'good' ... 'good' 'good' 'good']\n"
          ],
          "name": "stdout"
        }
      ]
    },
    {
      "cell_type": "code",
      "metadata": {
        "id": "x0Me_PZV8Wa4",
        "colab_type": "code",
        "outputId": "ea4bd776-2ade-4cf3-fc8b-6889b47d5b04",
        "colab": {
          "base_uri": "https://localhost:8080/",
          "height": 185
        }
      },
      "source": [
        "from sklearn.metrics import classification_report\n",
        "print (classification_report(df1['labels'], all_predictions))"
      ],
      "execution_count": 35,
      "outputs": [
        {
          "output_type": "stream",
          "text": [
            "              precision    recall  f1-score   support\n",
            "\n",
            "         bad       0.83      0.43      0.57      6058\n",
            "        good       0.72      0.99      0.83     22551\n",
            "      medium       0.58      0.04      0.08      5747\n",
            "\n",
            "    accuracy                           0.73     34356\n",
            "   macro avg       0.71      0.49      0.49     34356\n",
            "weighted avg       0.72      0.73      0.66     34356\n",
            "\n"
          ],
          "name": "stdout"
        }
      ]
    },
    {
      "cell_type": "markdown",
      "metadata": {
        "id": "YrgSsXzo8Wa6",
        "colab_type": "text"
      },
      "source": [
        "## Train Test Split"
      ]
    },
    {
      "cell_type": "code",
      "metadata": {
        "id": "1ejSVZ8cPreJ",
        "colab_type": "code",
        "colab": {}
      },
      "source": [
        "mapping_dict = {'labels': {'bad': 0, 'medium': 1, 'good': 2}}"
      ],
      "execution_count": 0,
      "outputs": []
    },
    {
      "cell_type": "code",
      "metadata": {
        "id": "sTx7Sh9JRMCD",
        "colab_type": "code",
        "colab": {}
      },
      "source": [
        "df1.replace(mapping_dict, inplace=True)"
      ],
      "execution_count": 0,
      "outputs": []
    },
    {
      "cell_type": "code",
      "metadata": {
        "id": "5UjSXRaYRWt1",
        "colab_type": "code",
        "outputId": "6aea0a4f-98c5-42ac-a482-5e162aaa2451",
        "colab": {
          "base_uri": "https://localhost:8080/",
          "height": 34
        }
      },
      "source": [
        "len(df1)"
      ],
      "execution_count": 38,
      "outputs": [
        {
          "output_type": "execute_result",
          "data": {
            "text/plain": [
              "34356"
            ]
          },
          "metadata": {
            "tags": []
          },
          "execution_count": 38
        }
      ]
    },
    {
      "cell_type": "code",
      "metadata": {
        "id": "AB8XZXhRKCxy",
        "colab_type": "code",
        "colab": {}
      },
      "source": [
        "from sklearn.model_selection import train_test_split\n",
        "\n",
        "X = df1.reviews_text\n",
        "y = df1.labels"
      ],
      "execution_count": 0,
      "outputs": []
    },
    {
      "cell_type": "code",
      "metadata": {
        "id": "ZwcmQ55eLxC9",
        "colab_type": "code",
        "colab": {}
      },
      "source": [
        "X_train, X_test, y_train, y_test = train_test_split(X, y, test_size=0.25, random_state = 0)"
      ],
      "execution_count": 0,
      "outputs": []
    },
    {
      "cell_type": "code",
      "metadata": {
        "id": "dnhqvyTaR5ol",
        "colab_type": "code",
        "colab": {}
      },
      "source": [
        "from sklearn.feature_extraction.text import CountVectorizer\n",
        "\n",
        "vect = CountVectorizer(binary=True)\n",
        "\n",
        "X_train_vect = vect.fit_transform(X_train)"
      ],
      "execution_count": 0,
      "outputs": []
    },
    {
      "cell_type": "code",
      "metadata": {
        "id": "6EJCUEh2XdOo",
        "colab_type": "code",
        "outputId": "549e35f9-b7b4-4059-cba2-b6f2d3c6ae01",
        "colab": {
          "base_uri": "https://localhost:8080/",
          "height": 50
        }
      },
      "source": [
        "X_train_vect"
      ],
      "execution_count": 58,
      "outputs": [
        {
          "output_type": "execute_result",
          "data": {
            "text/plain": [
              "<25767x25323 sparse matrix of type '<class 'numpy.int64'>'\n",
              "\twith 883017 stored elements in Compressed Sparse Row format>"
            ]
          },
          "metadata": {
            "tags": []
          },
          "execution_count": 58
        }
      ]
    },
    {
      "cell_type": "code",
      "metadata": {
        "id": "NL2SfC42Jvq7",
        "colab_type": "code",
        "cellView": "form",
        "colab": {}
      },
      "source": [
        "#@title Over Sampling\n"
      ],
      "execution_count": 0,
      "outputs": []
    },
    {
      "cell_type": "code",
      "metadata": {
        "id": "IEWPjbXeKG9V",
        "colab_type": "code",
        "colab": {}
      },
      "source": [
        "from imblearn.over_sampling import SMOTE\n",
        "\n",
        "sm = SMOTE()\n",
        "\n",
        "X_train_res, y_train_res = sm.fit_sample(X_train_vect, y_train)"
      ],
      "execution_count": 0,
      "outputs": []
    },
    {
      "cell_type": "code",
      "metadata": {
        "id": "3D0_XNNwKTSI",
        "colab_type": "code",
        "outputId": "0215aae4-e80b-42b9-c3da-9b96f2b2b757",
        "colab": {
          "base_uri": "https://localhost:8080/",
          "height": 34
        }
      },
      "source": [
        "unique, counts = np.unique(y_train_res, return_counts=True)\n",
        "print(list(zip(unique, counts)))"
      ],
      "execution_count": 60,
      "outputs": [
        {
          "output_type": "stream",
          "text": [
            "[(0, 16922), (1, 16922), (2, 16922)]\n"
          ],
          "name": "stdout"
        }
      ]
    },
    {
      "cell_type": "markdown",
      "metadata": {
        "id": "GP4X54O68Wa-",
        "colab_type": "text"
      },
      "source": [
        "## Applying NB Model\n"
      ]
    },
    {
      "cell_type": "code",
      "metadata": {
        "id": "in0UX4bjSaxy",
        "colab_type": "code",
        "outputId": "b6e5cf11-06f9-4cf3-eb06-df9adfd3e8fa",
        "colab": {
          "base_uri": "https://localhost:8080/",
          "height": 34
        }
      },
      "source": [
        "from sklearn.naive_bayes import MultinomialNB\n",
        "\n",
        "nb = MultinomialNB(alpha = 0.1)\n",
        "\n",
        "nb.fit(X_train_res, y_train_res)\n",
        "\n",
        "nb.score(X_train_res, y_train_res)"
      ],
      "execution_count": 61,
      "outputs": [
        {
          "output_type": "execute_result",
          "data": {
            "text/plain": [
              "0.7247567269432297"
            ]
          },
          "metadata": {
            "tags": []
          },
          "execution_count": 61
        }
      ]
    },
    {
      "cell_type": "code",
      "metadata": {
        "id": "h10rM1h9Sbot",
        "colab_type": "code",
        "outputId": "fa5d5a2b-c5fc-493c-971c-bc319ffbe8b7",
        "colab": {
          "base_uri": "https://localhost:8080/",
          "height": 34
        }
      },
      "source": [
        "X_test_vect = vect.transform(X_test)\n",
        "\n",
        "y_pred = nb.predict(X_test_vect)\n",
        "\n",
        "y_pred"
      ],
      "execution_count": 62,
      "outputs": [
        {
          "output_type": "execute_result",
          "data": {
            "text/plain": [
              "array([2, 1, 2, ..., 2, 2, 2])"
            ]
          },
          "metadata": {
            "tags": []
          },
          "execution_count": 62
        }
      ]
    },
    {
      "cell_type": "code",
      "metadata": {
        "id": "j5fL8TO2Sebs",
        "colab_type": "code",
        "outputId": "74dba2b8-84fe-420a-dbaf-39e4b0526dc8",
        "colab": {
          "base_uri": "https://localhost:8080/",
          "height": 134
        }
      },
      "source": [
        "from sklearn.metrics import accuracy_score, f1_score, confusion_matrix\n",
        "\n",
        "print(\"Train Accuracy: {:.2f}%\".format(accuracy_score(y_train_res, nb.predict(X_train_res)) * 100))\n",
        "print(\"Test Accuracy: {:.2f}%\".format(accuracy_score(y_test, y_pred) * 100))\n",
        "print(\"\\nConfusion Matrix:\\n\", confusion_matrix(y_test, y_pred))"
      ],
      "execution_count": 64,
      "outputs": [
        {
          "output_type": "stream",
          "text": [
            "Train Accuracy: 72.48%\n",
            "Test Accuracy: 68.49%\n",
            "\n",
            "Confusion Matrix:\n",
            " [[1107  249  175]\n",
            " [ 412  544  473]\n",
            " [ 359 1038 4232]]\n"
          ],
          "name": "stdout"
        }
      ]
    },
    {
      "cell_type": "code",
      "metadata": {
        "id": "gVRRIl6nSi5C",
        "colab_type": "code",
        "outputId": "d718c909-716f-436f-89da-55bacc84078c",
        "colab": {
          "base_uri": "https://localhost:8080/",
          "height": 34
        }
      },
      "source": [
        "print(nb.predict(vect.transform(['dirty rooms and beds are not align'])))"
      ],
      "execution_count": 65,
      "outputs": [
        {
          "output_type": "stream",
          "text": [
            "[0]\n"
          ],
          "name": "stdout"
        }
      ]
    },
    {
      "cell_type": "code",
      "metadata": {
        "id": "eF0JbeXl8WbH",
        "colab_type": "code",
        "outputId": "34c784ce-ff55-45a6-c9f5-64bfcd58f2d1",
        "colab": {
          "base_uri": "https://localhost:8080/",
          "height": 185
        }
      },
      "source": [
        "print(classification_report(y_test,y_pred))"
      ],
      "execution_count": 66,
      "outputs": [
        {
          "output_type": "stream",
          "text": [
            "              precision    recall  f1-score   support\n",
            "\n",
            "           0       0.59      0.72      0.65      1531\n",
            "           1       0.30      0.38      0.33      1429\n",
            "           2       0.87      0.75      0.81      5629\n",
            "\n",
            "    accuracy                           0.68      8589\n",
            "   macro avg       0.58      0.62      0.60      8589\n",
            "weighted avg       0.72      0.68      0.70      8589\n",
            "\n"
          ],
          "name": "stdout"
        }
      ]
    },
    {
      "cell_type": "code",
      "metadata": {
        "id": "zAA_fkLbN8kl",
        "colab_type": "code",
        "cellView": "form",
        "colab": {}
      },
      "source": [
        "#@title Under Sampling\n"
      ],
      "execution_count": 0,
      "outputs": []
    },
    {
      "cell_type": "code",
      "metadata": {
        "id": "TxwntORwNn2c",
        "colab_type": "code",
        "colab": {}
      },
      "source": [
        "from imblearn.under_sampling import NearMiss\n",
        "\n",
        "nr = NearMiss()\n",
        "X_train_nr, y_train_nr = nr.fit_sample(X_train_vect, y_train)"
      ],
      "execution_count": 0,
      "outputs": []
    },
    {
      "cell_type": "code",
      "metadata": {
        "id": "w88YnFw1N7nL",
        "colab_type": "code",
        "outputId": "a0cbcf01-5c16-49ae-cb71-37cb76f15313",
        "colab": {
          "base_uri": "https://localhost:8080/",
          "height": 34
        }
      },
      "source": [
        "unique, counts = np.unique(y_train_nr, return_counts=True)\n",
        "print(list(zip(unique, counts)))"
      ],
      "execution_count": 68,
      "outputs": [
        {
          "output_type": "stream",
          "text": [
            "[(0, 4318), (1, 4318), (2, 4318)]\n"
          ],
          "name": "stdout"
        }
      ]
    },
    {
      "cell_type": "code",
      "metadata": {
        "id": "ikmEObASOCcD",
        "colab_type": "code",
        "cellView": "form",
        "colab": {}
      },
      "source": [
        "#@title ## Applying NB Model"
      ],
      "execution_count": 0,
      "outputs": []
    },
    {
      "cell_type": "code",
      "metadata": {
        "id": "TzJoeD2WORA8",
        "colab_type": "code",
        "outputId": "2fedff71-10fe-4fa7-e2cf-2fa8f5c3694d",
        "colab": {
          "base_uri": "https://localhost:8080/",
          "height": 34
        }
      },
      "source": [
        "nb.fit(X_train_nr, y_train_nr)\n",
        "\n",
        "nb.score(X_train_nr, y_train_nr)"
      ],
      "execution_count": 69,
      "outputs": [
        {
          "output_type": "execute_result",
          "data": {
            "text/plain": [
              "0.8126447429365447"
            ]
          },
          "metadata": {
            "tags": []
          },
          "execution_count": 69
        }
      ]
    },
    {
      "cell_type": "code",
      "metadata": {
        "id": "2LlEhOV7OazE",
        "colab_type": "code",
        "outputId": "0fd84893-d280-47a5-cb49-c3290e4dded6",
        "colab": {
          "base_uri": "https://localhost:8080/",
          "height": 34
        }
      },
      "source": [
        "y_pred = nb.predict(X_test_vect)\n",
        "\n",
        "y_pred"
      ],
      "execution_count": 70,
      "outputs": [
        {
          "output_type": "execute_result",
          "data": {
            "text/plain": [
              "array([2, 1, 1, ..., 2, 1, 1])"
            ]
          },
          "metadata": {
            "tags": []
          },
          "execution_count": 70
        }
      ]
    },
    {
      "cell_type": "code",
      "metadata": {
        "id": "KCVmNSswOgNG",
        "colab_type": "code",
        "outputId": "3fa84b98-87b0-4e9e-c0a4-6d2047f7c8d9",
        "colab": {
          "base_uri": "https://localhost:8080/",
          "height": 134
        }
      },
      "source": [
        "print(\"Train Accuracy: {:.2f}%\".format(accuracy_score(y_train_nr, nb.predict(X_train_nr)) * 100))\n",
        "print(\"Accuracy: {:.2f}%\".format(accuracy_score(y_test, y_pred) * 100))\n",
        "print(\"\\nConfusion Matrix:\\n\", confusion_matrix(y_test, y_pred))"
      ],
      "execution_count": 71,
      "outputs": [
        {
          "output_type": "stream",
          "text": [
            "Train Accuracy: 81.26%\n",
            "Accuracy: 49.32%\n",
            "\n",
            "Confusion Matrix:\n",
            " [[1061  409   61]\n",
            " [ 396  805  228]\n",
            " [ 476 2783 2370]]\n"
          ],
          "name": "stdout"
        }
      ]
    },
    {
      "cell_type": "code",
      "metadata": {
        "id": "XGac_ImmOpbp",
        "colab_type": "code",
        "outputId": "8c26358d-bb90-4f2d-a617-3de025fda42e",
        "colab": {
          "base_uri": "https://localhost:8080/",
          "height": 185
        }
      },
      "source": [
        "print(classification_report(y_test,y_pred))"
      ],
      "execution_count": 72,
      "outputs": [
        {
          "output_type": "stream",
          "text": [
            "              precision    recall  f1-score   support\n",
            "\n",
            "           0       0.55      0.69      0.61      1531\n",
            "           1       0.20      0.56      0.30      1429\n",
            "           2       0.89      0.42      0.57      5629\n",
            "\n",
            "    accuracy                           0.49      8589\n",
            "   macro avg       0.55      0.56      0.49      8589\n",
            "weighted avg       0.72      0.49      0.53      8589\n",
            "\n"
          ],
          "name": "stdout"
        }
      ]
    },
    {
      "cell_type": "code",
      "metadata": {
        "id": "L9otUjNxfU7-",
        "colab_type": "code",
        "cellView": "form",
        "colab": {}
      },
      "source": [
        "#@title ## Applying LinearSVC model\n"
      ],
      "execution_count": 0,
      "outputs": []
    },
    {
      "cell_type": "code",
      "metadata": {
        "id": "LnRGmvM4HGtO",
        "colab_type": "code",
        "colab": {}
      },
      "source": [
        "from sklearn.svm import LinearSVC\n",
        "from sklearn.pipeline import Pipeline\n",
        "\n",
        "#pipeline of feature engineering and model\n",
        "model = Pipeline([('vectorizer', CountVectorizer()),\n",
        " ('tfidf', TfidfTransformer()),\n",
        " ('clf', LinearSVC(class_weight='balanced'))])\n",
        "#the class_weight=\"balanced\" option tries to remove the biasedness of model towards majority sample"
      ],
      "execution_count": 0,
      "outputs": []
    },
    {
      "cell_type": "code",
      "metadata": {
        "id": "-ZQZPlLbZdIr",
        "colab_type": "code",
        "outputId": "816f78b5-2977-42bf-d4ba-d39b1a6a5719",
        "colab": {
          "base_uri": "https://localhost:8080/",
          "height": 104
        }
      },
      "source": [
        "#paramater selection\n",
        "from sklearn.model_selection import GridSearchCV\n",
        "parameters = {'vectorizer__ngram_range': [(1, 1), (1, 2),(2,2)],\n",
        "               'tfidf__use_idf': (True, False)}\n",
        "\n",
        "gs_clf_svm = GridSearchCV(model, parameters, n_jobs=-1)\n",
        "gs_clf_svm = gs_clf_svm.fit(X, y)\n",
        "\n",
        "print(gs_clf_svm.best_score_)\n",
        "print(gs_clf_svm.best_params_)"
      ],
      "execution_count": 74,
      "outputs": [
        {
          "output_type": "stream",
          "text": [
            "/usr/local/lib/python3.6/dist-packages/sklearn/model_selection/_split.py:1978: FutureWarning: The default value of cv will change from 3 to 5 in version 0.22. Specify it explicitly to silence this warning.\n",
            "  warnings.warn(CV_WARNING, FutureWarning)\n"
          ],
          "name": "stderr"
        },
        {
          "output_type": "stream",
          "text": [
            "0.7522994527884503\n",
            "{'tfidf__use_idf': False, 'vectorizer__ngram_range': (1, 2)}\n"
          ],
          "name": "stdout"
        }
      ]
    },
    {
      "cell_type": "code",
      "metadata": {
        "id": "OQcaOk7neGWD",
        "colab_type": "code",
        "colab": {}
      },
      "source": [
        "#preparing the final pipeline using the selected parameters\n",
        "model = Pipeline([('vectorizer', CountVectorizer(ngram_range=(1,2))),\n",
        "    ('tfidf', TfidfTransformer(use_idf=False)),\n",
        "    ('clf', LinearSVC(class_weight=\"balanced\"))])"
      ],
      "execution_count": 0,
      "outputs": []
    },
    {
      "cell_type": "code",
      "metadata": {
        "id": "ELcEMzMdeNiQ",
        "colab_type": "code",
        "colab": {}
      },
      "source": [
        "#fit model with training data\n",
        "model.fit(X_train, y_train)\n",
        "\n",
        "pred = model.predict(X_test)"
      ],
      "execution_count": 0,
      "outputs": []
    },
    {
      "cell_type": "code",
      "metadata": {
        "id": "grea6UfQeSNz",
        "colab_type": "code",
        "outputId": "ac44b4f6-d919-46cb-83c8-aa07dad35af5",
        "colab": {
          "base_uri": "https://localhost:8080/",
          "height": 134
        }
      },
      "source": [
        "print(\"Train Accuracy: {:.2f}%\".format(accuracy_score(y_train, model.predict(X_train)) * 100))\n",
        "print(\"Accuracy: {:.2f}%\".format(accuracy_score(y_test, pred) * 100))\n",
        "print(\"\\nConfusion Matrix:\\n\", confusion_matrix(y_test, pred))"
      ],
      "execution_count": 78,
      "outputs": [
        {
          "output_type": "stream",
          "text": [
            "Train Accuracy: 96.18%\n",
            "Accuracy: 76.81%\n",
            "\n",
            "Confusion Matrix:\n",
            " [[1101  234  196]\n",
            " [ 356  463  610]\n",
            " [ 188  408 5033]]\n"
          ],
          "name": "stdout"
        }
      ]
    },
    {
      "cell_type": "code",
      "metadata": {
        "id": "b_dVJnC6fHYq",
        "colab_type": "code",
        "outputId": "44d5cd15-c740-4646-ff5c-47bd6c35bf45",
        "colab": {
          "base_uri": "https://localhost:8080/",
          "height": 185
        }
      },
      "source": [
        "print(classification_report(y_test,pred))"
      ],
      "execution_count": 79,
      "outputs": [
        {
          "output_type": "stream",
          "text": [
            "              precision    recall  f1-score   support\n",
            "\n",
            "           0       0.67      0.72      0.69      1531\n",
            "           1       0.42      0.32      0.37      1429\n",
            "           2       0.86      0.89      0.88      5629\n",
            "\n",
            "    accuracy                           0.77      8589\n",
            "   macro avg       0.65      0.65      0.65      8589\n",
            "weighted avg       0.75      0.77      0.76      8589\n",
            "\n"
          ],
          "name": "stdout"
        }
      ]
    },
    {
      "cell_type": "code",
      "metadata": {
        "id": "hpedC86FTScl",
        "colab_type": "code",
        "cellView": "form",
        "colab": {}
      },
      "source": [
        "#@title ## Model Selection with Over Sampling\n"
      ],
      "execution_count": 0,
      "outputs": []
    },
    {
      "cell_type": "code",
      "metadata": {
        "id": "K1qWInesRKLU",
        "colab_type": "code",
        "outputId": "07f054d0-9695-4176-a9b6-05fd7f86a05d",
        "colab": {
          "base_uri": "https://localhost:8080/",
          "height": 452
        }
      },
      "source": [
        "from sklearn.model_selection import cross_val_score\n",
        "models = [\n",
        "    MultinomialNB(),\n",
        "    LinearSVC()\n",
        "]\n",
        "CV = 5\n",
        "cv_df = pd.DataFrame(index=range(CV * len(models)))\n",
        "entries = []\n",
        "\n",
        "for model in models:\n",
        "  model_name = model.__class__.__name__\n",
        "  accuracies = cross_val_score(model, X_train_res, y_train_res, scoring='accuracy', cv=CV)\n",
        "  for fold_idx, accuracy in enumerate(accuracies):\n",
        "    entries.append((model_name, fold_idx, accuracy))\n",
        "\n",
        "cv_df = pd.DataFrame(entries, columns=['model_name', 'fold_idx', 'accuracy'])\n",
        "\n",
        "import seaborn as sns\n",
        "sns.boxplot(x='model_name', y='accuracy', data=cv_df)\n",
        "sns.stripplot(x='model_name', y='accuracy', data=cv_df, \n",
        "              size=8, jitter=True, edgecolor=\"gray\", linewidth=2)\n",
        "plt.show()"
      ],
      "execution_count": 80,
      "outputs": [
        {
          "output_type": "stream",
          "text": [
            "/usr/local/lib/python3.6/dist-packages/sklearn/svm/base.py:929: ConvergenceWarning: Liblinear failed to converge, increase the number of iterations.\n",
            "  \"the number of iterations.\", ConvergenceWarning)\n",
            "/usr/local/lib/python3.6/dist-packages/sklearn/svm/base.py:929: ConvergenceWarning: Liblinear failed to converge, increase the number of iterations.\n",
            "  \"the number of iterations.\", ConvergenceWarning)\n",
            "/usr/local/lib/python3.6/dist-packages/sklearn/svm/base.py:929: ConvergenceWarning: Liblinear failed to converge, increase the number of iterations.\n",
            "  \"the number of iterations.\", ConvergenceWarning)\n",
            "/usr/local/lib/python3.6/dist-packages/sklearn/svm/base.py:929: ConvergenceWarning: Liblinear failed to converge, increase the number of iterations.\n",
            "  \"the number of iterations.\", ConvergenceWarning)\n",
            "/usr/local/lib/python3.6/dist-packages/sklearn/svm/base.py:929: ConvergenceWarning: Liblinear failed to converge, increase the number of iterations.\n",
            "  \"the number of iterations.\", ConvergenceWarning)\n"
          ],
          "name": "stderr"
        },
        {
          "output_type": "display_data",
          "data": {
            "image/png": "[encoded data removed]",
            "text/plain": [
              "<Figure size 432x288 with 1 Axes>"
            ]
          },
          "metadata": {
            "tags": []
          }
        }
      ]
    },
    {
      "cell_type": "code",
      "metadata": {
        "id": "Ta25AtidTRB8",
        "colab_type": "code",
        "outputId": "16dad5ef-6f94-475a-d17d-9a54479f1e0d",
        "colab": {
          "base_uri": "https://localhost:8080/",
          "height": 84
        }
      },
      "source": [
        "cv_df.groupby('model_name').accuracy.mean()"
      ],
      "execution_count": 81,
      "outputs": [
        {
          "output_type": "execute_result",
          "data": {
            "text/plain": [
              "model_name\n",
              "LinearSVC        0.696656\n",
              "MultinomialNB    0.657729\n",
              "Name: accuracy, dtype: float64"
            ]
          },
          "metadata": {
            "tags": []
          },
          "execution_count": 81
        }
      ]
    },
    {
      "cell_type": "code",
      "metadata": {
        "id": "KNr8isDcTcss",
        "colab_type": "code",
        "cellView": "form",
        "colab": {}
      },
      "source": [
        "#@title ## Model Evaluation of LinearSVC with Over Sampling\n"
      ],
      "execution_count": 0,
      "outputs": []
    },
    {
      "cell_type": "code",
      "metadata": {
        "id": "Jn1SaYvrWI7H",
        "colab_type": "code",
        "outputId": "c9bd6a12-2ec6-41b6-ce03-1e55cb03cf31",
        "colab": {
          "base_uri": "https://localhost:8080/",
          "height": 50
        }
      },
      "source": [
        "model = LinearSVC()\n",
        "model.fit(X_train_res, y_train_res)\n",
        "y_pred = model.predict(X_test_vect)"
      ],
      "execution_count": 82,
      "outputs": [
        {
          "output_type": "stream",
          "text": [
            "/usr/local/lib/python3.6/dist-packages/sklearn/svm/base.py:929: ConvergenceWarning: Liblinear failed to converge, increase the number of iterations.\n",
            "  \"the number of iterations.\", ConvergenceWarning)\n"
          ],
          "name": "stderr"
        }
      ]
    },
    {
      "cell_type": "code",
      "metadata": {
        "id": "J6RKBNKfWbMH",
        "colab_type": "code",
        "outputId": "57e2e9a4-b189-49cf-b2dc-ce2929d6d83b",
        "colab": {
          "base_uri": "https://localhost:8080/",
          "height": 134
        }
      },
      "source": [
        "print(\"Train Accuracy: {:.2f}%\".format(accuracy_score(y_train_res, model.predict(X_train_res)) * 100))\n",
        "print(\" Test Accuracy: {:.2f}%\".format(accuracy_score(y_test, y_pred) * 100))\n",
        "print(\"\\nCOnfusion Matrix:\\n\", confusion_matrix(y_test, y_pred))"
      ],
      "execution_count": 84,
      "outputs": [
        {
          "output_type": "stream",
          "text": [
            "Train Accuracy: 83.00%\n",
            " Test Accuracy: 67.02%\n",
            "\n",
            "COnfusion Matrix:\n",
            " [[ 924  317  290]\n",
            " [ 341  495  593]\n",
            " [ 346  946 4337]]\n"
          ],
          "name": "stdout"
        }
      ]
    },
    {
      "cell_type": "code",
      "metadata": {
        "id": "f1mySX2EV8pO",
        "colab_type": "code",
        "outputId": "b7913abf-02ed-4f6d-8715-a65b7644b683",
        "colab": {
          "base_uri": "https://localhost:8080/",
          "height": 185
        }
      },
      "source": [
        "print(classification_report(y_test, y_pred))"
      ],
      "execution_count": 85,
      "outputs": [
        {
          "output_type": "stream",
          "text": [
            "              precision    recall  f1-score   support\n",
            "\n",
            "           0       0.57      0.60      0.59      1531\n",
            "           1       0.28      0.35      0.31      1429\n",
            "           2       0.83      0.77      0.80      5629\n",
            "\n",
            "    accuracy                           0.67      8589\n",
            "   macro avg       0.56      0.57      0.57      8589\n",
            "weighted avg       0.69      0.67      0.68      8589\n",
            "\n"
          ],
          "name": "stdout"
        }
      ]
    },
    {
      "cell_type": "code",
      "metadata": {
        "id": "SL5mTlMxgwsV",
        "colab_type": "code",
        "outputId": "b8e0366b-00cb-4ae9-9113-f69702be98d0",
        "colab": {
          "base_uri": "https://localhost:8080/",
          "height": 609
        }
      },
      "source": [
        "from sklearn.metrics import confusion_matrix\n",
        "\n",
        "conf_mat = confusion_matrix(y_test, y_pred)\n",
        "\n",
        "fig, ax = plt.subplots(figsize=(10,10))\n",
        "sns.heatmap(conf_mat, annot=True, fmt='d')\n",
        "plt.ylabel('Actual')\n",
        "plt.xlabel('Predicted')\n",
        "plt.show()"
      ],
      "execution_count": 86,
      "outputs": [
        {
          "output_type": "display_data",
          "data": {
            "image/png": "[encoded data removed]",
            "text/plain": [
              "<Figure size 720x720 with 2 Axes>"
            ]
          },
          "metadata": {
            "tags": []
          }
        }
      ]
    },
    {
      "cell_type": "code",
      "metadata": {
        "colab_type": "code",
        "cellView": "form",
        "id": "BapMCcudC4o7",
        "colab": {}
      },
      "source": [
        "#@title ## Model Evaluation of LinearSVC with Under Sampling\n"
      ],
      "execution_count": 0,
      "outputs": []
    },
    {
      "cell_type": "code",
      "metadata": {
        "colab_type": "code",
        "outputId": "2879b8aa-0dc7-4c1d-892a-f2ebb34a2dd3",
        "id": "yMNgjD-qC4pO",
        "colab": {
          "base_uri": "https://localhost:8080/",
          "height": 50
        }
      },
      "source": [
        "model = LinearSVC()\n",
        "model.fit(X_train_nr, y_train_nr)\n",
        "y_pred = model.predict(X_test_vect)"
      ],
      "execution_count": 87,
      "outputs": [
        {
          "output_type": "stream",
          "text": [
            "/usr/local/lib/python3.6/dist-packages/sklearn/svm/base.py:929: ConvergenceWarning: Liblinear failed to converge, increase the number of iterations.\n",
            "  \"the number of iterations.\", ConvergenceWarning)\n"
          ],
          "name": "stderr"
        }
      ]
    },
    {
      "cell_type": "code",
      "metadata": {
        "colab_type": "code",
        "outputId": "dfd6f3bc-e3af-4b24-a7b6-adc3a4a5f947",
        "id": "08Ebj_l4C4pd",
        "colab": {
          "base_uri": "https://localhost:8080/",
          "height": 134
        }
      },
      "source": [
        "print(\"Train Accuracy: {:.2f}%\".format(accuracy_score(y_train_nr, model.predict(X_train_nr)) * 100))\n",
        "print(\" Test Accuracy: {:.2f}%\".format(accuracy_score(y_test, y_pred) * 100))\n",
        "print(\"\\nCOnfusion Matrix:\\n\", confusion_matrix(y_test, y_pred))"
      ],
      "execution_count": 88,
      "outputs": [
        {
          "output_type": "stream",
          "text": [
            "Train Accuracy: 93.72%\n",
            " Test Accuracy: 48.64%\n",
            "\n",
            "COnfusion Matrix:\n",
            " [[ 965  447  119]\n",
            " [ 393  746  290]\n",
            " [ 742 2420 2467]]\n"
          ],
          "name": "stdout"
        }
      ]
    },
    {
      "cell_type": "code",
      "metadata": {
        "colab_type": "code",
        "outputId": "55eb7fb2-eb86-4c9c-8dbf-7a20ef31af05",
        "id": "paCgbW6tC4pj",
        "colab": {
          "base_uri": "https://localhost:8080/",
          "height": 185
        }
      },
      "source": [
        "print(classification_report(y_test, y_pred))"
      ],
      "execution_count": 89,
      "outputs": [
        {
          "output_type": "stream",
          "text": [
            "              precision    recall  f1-score   support\n",
            "\n",
            "           0       0.46      0.63      0.53      1531\n",
            "           1       0.21      0.52      0.30      1429\n",
            "           2       0.86      0.44      0.58      5629\n",
            "\n",
            "    accuracy                           0.49      8589\n",
            "   macro avg       0.51      0.53      0.47      8589\n",
            "weighted avg       0.68      0.49      0.52      8589\n",
            "\n"
          ],
          "name": "stdout"
        }
      ]
    },
    {
      "cell_type": "code",
      "metadata": {
        "colab_type": "code",
        "outputId": "194dcce5-ce03-4219-d9f8-f8e73f334be0",
        "id": "rJAjk-izC4ps",
        "colab": {
          "base_uri": "https://localhost:8080/",
          "height": 609
        }
      },
      "source": [
        "from sklearn.metrics import confusion_matrix\n",
        "\n",
        "conf_mat = confusion_matrix(y_test, y_pred)\n",
        "\n",
        "fig, ax = plt.subplots(figsize=(10,10))\n",
        "sns.heatmap(conf_mat, annot=True, fmt='d')\n",
        "plt.ylabel('Actual')\n",
        "plt.xlabel('Predicted')\n",
        "plt.show()"
      ],
      "execution_count": 90,
      "outputs": [
        {
          "output_type": "display_data",
          "data": {
            "image/png": "[encoded data removed]",
            "text/plain": [
              "<Figure size 720x720 with 2 Axes>"
            ]
          },
          "metadata": {
            "tags": []
          }
        }
      ]
    }
  ]
}